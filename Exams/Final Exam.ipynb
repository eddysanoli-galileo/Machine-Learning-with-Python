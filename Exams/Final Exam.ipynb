{
 "cells": [
  {
   "cell_type": "markdown",
   "metadata": {},
   "source": [
    "## Final Exam\n",
    "\n",
    "----------\n",
    "\n",
    "### Problem 4\n",
    "\n",
    "#### 4.(2)"
   ]
  },
  {
   "cell_type": "code",
   "execution_count": 15,
   "metadata": {},
   "outputs": [
    {
     "name": "stdout",
     "output_type": "stream",
     "text": [
      "Output logits:\n",
      "[[0]\n",
      " [1]]\n"
     ]
    }
   ],
   "source": [
    "import numpy as np\n",
    "from typing import Dict, Callable\n",
    "\n",
    "# Weight applied to sample S_t-1\n",
    "Wss : np.ndarray = np.array(\n",
    "    [\n",
    "        [-1, 0],\n",
    "        [ 0, 1]\n",
    "    ]\n",
    ")\n",
    "\n",
    "# Weight applied to each new word X_t\n",
    "Wsx : np.ndarray = np.array(\n",
    "    [\n",
    "        [1, 0],\n",
    "        [0, 1]\n",
    "    ]\n",
    ")\n",
    "\n",
    "# Activation functions\n",
    "f1 : Callable = lambda x : np.maximum(0, x)            # ReLu\n",
    "f2 : Callable = lambda x : np.maximum(0, np.sign(x))   # Sign (0 when negative, 1 when positive)\n",
    "\n",
    "# We have a vocabulary of 2 words \"A\" and \"B\". We use one-hot\n",
    "# encoding to convert them into sparse two dimensional vectors.\n",
    "# We have 3 different sentences made up from this vocabulary\n",
    "# \n",
    "#   - AA\n",
    "#   - ABB\n",
    "#   - BAA\n",
    "# \n",
    "# The encoding for the first sentence is [[1, 0], [1, 0]]. The\n",
    "# next ones follow the same scheme. Here we declare each one.\n",
    "sentences : Dict[str, np.ndarray] = {\n",
    "\n",
    "    # AA\n",
    "    \"S1\" : np.array(\n",
    "        [\n",
    "            [1, 0],\n",
    "            [1, 0]\n",
    "        ]\n",
    "    ),\n",
    "\n",
    "    # ABB\n",
    "    \"S2\" : np.array(\n",
    "        [\n",
    "            [1, 0],\n",
    "            [0, 1],\n",
    "            [0, 1]\n",
    "        ]\n",
    "    ),\n",
    "\n",
    "    # BAA\n",
    "    \"S3\" : np.array(\n",
    "        [\n",
    "            [0, 1],\n",
    "            [1, 0],\n",
    "            [1, 0]\n",
    "        ]\n",
    "    ),\n",
    "}\n",
    "\n",
    "# CHANGE THIS: We select the sentence to process\n",
    "sentence : np.ndarray = sentences[\"S3\"]\n",
    "\n",
    "# Initial state s0 (Column vector)\n",
    "st : np.ndarray = np.array([[0, 0]]).T\n",
    "\n",
    "# Whether to print stuff or not\n",
    "debug : bool = False\n",
    "\n",
    "# Go through each word in the sentence\n",
    "for idx, word in enumerate(sentence):\n",
    "\n",
    "    # Each word here consists of a column vector, here the dimensionless\n",
    "    # vector is turned into a column vector\n",
    "    xt : np.ndarray = np.reshape(word, (-1, 1))\n",
    "    \n",
    "    # Print additional debug messages if on debug mode\n",
    "    if debug:\n",
    "        print(f\"Word {idx}:\")\n",
    "        print(Wss)\n",
    "        print(st)\n",
    "        print(Wsx)\n",
    "        print(xt)\n",
    "\n",
    "    # We get the state St from the previous state and the new word xt\n",
    "    st = f1(Wss @ st + Wsx @ xt)\n",
    "\n",
    "# Output logits\n",
    "print(\"Output logits:\")\n",
    "print(st)"
   ]
  },
  {
   "cell_type": "markdown",
   "metadata": {},
   "source": [
    "#### 4. (4)\n",
    "\n",
    "A simpler model to classify sentences is to represent the entire sentence into a vector $z$ and apply a linear model on $z$ , i.e.\n",
    "\n",
    "$$y = \\text{sign}(W^{z,y}z)$$\n",
    " \n",
    "The vector $z$ has length $|V|$ and the $i$ th element of $z$ is the count of how many times the th word appears in the sentence. For example, the sentence ABA with $V= {A, B}$ will be encoded as $z = [2, 1]^T$. If we want the RNN we described earlier to match the output of this linear model given any input sentences, Which of the following is a possible setting of the weights and initial state $s_0$ of the RNN?"
   ]
  },
  {
   "cell_type": "code",
   "execution_count": 23,
   "metadata": {},
   "outputs": [
    {
     "name": "stdout",
     "output_type": "stream",
     "text": [
      "Output logits:\n",
      "[[2.]\n",
      " [1.]]\n"
     ]
    }
   ],
   "source": [
    "# We select the sentence to process\n",
    "sentence : np.ndarray = sentences[\"S3\"]\n",
    "\n",
    "# Vocabulary size\n",
    "# (Total number of words in the vocabulary. Right now just A and B)\n",
    "vocabulary_size : int = 2\n",
    "\n",
    "# Initial state s0 (Column vector)\n",
    "# st : np.ndarray = np.ones((vocabulary_size, 1))\n",
    "st : np.ndarray = np.zeros((vocabulary_size, 1))\n",
    "\n",
    "# Weights\n",
    "Wss : np.ndarray = np.identity(vocabulary_size)\n",
    "Wsx : np.ndarray = np.identity(vocabulary_size)\n",
    "\n",
    "# Go through each word in the sentence\n",
    "for idx, word in enumerate(sentence):\n",
    "\n",
    "    # Each word here consists of a column vector, here the dimensionless\n",
    "    # vector is turned into a column vector\n",
    "    xt : np.ndarray = np.reshape(word, (-1, 1))\n",
    "\n",
    "    # We get the state St from the previous state and the new word xt\n",
    "    st = f1(Wss @ st + Wsx @ xt)\n",
    "\n",
    "# Output logits\n",
    "print(\"Output logits:\")\n",
    "print(st)"
   ]
  },
  {
   "cell_type": "markdown",
   "metadata": {},
   "source": [
    "##### Analyzing the 2nd Option\n",
    "\n",
    "Option: $s_0=1^{|V|}$, $W^{s,s}=I_{|V|}$, $W^{s,x}=I_{|V|}$, $W^{s,y}=W^{z,y}$, $W_0=-\\sum _ i W^{z,y}_ i$\n",
    "\n",
    "Notes:\n",
    "- On the first sentence (AA) the output is [3, 1]. \n",
    "- On the second sentence (ABB) the output is [2, 3].\n",
    "- On the third sentence (BAA) the output is [3, 2]\n",
    "\n",
    "For the final step in the model, we want the input to be a count of how many times each word appears in a sentence. If we analyze the outputs that we got, we are receiving 1 number above the actual count. For example: For the sentence AA we would expect to get [2, 0] (Since there are 2 A's and 0 B's), but we are getting that plus one: [3, 1]\n",
    "\n",
    "So apparently, the weights for the final layer will not have to change from the ones used in the model with a sign(W_z,y * z) at the end. The only thing that we would need to change is the bias. Since we need to adjust the counts by 1 before feeding them into the next part, we could use the \"non-adjusted output\" (With counts + 1), multiply it by the \"Wzy\" weights and then remove the \"+1\" residue with the bias.\n",
    "\n",
    "Thats why the second option is valid\n",
    "\n",
    "##### Analyzing the 4th Option\n",
    "\n",
    "Option: $s_0=0^{|V|}$, $W^{s,s}=I_{|V|}$, $W^{s,x}=I_{|V|}$, $W^{s,y}=W^{z,y}$, $W_0=0$\n",
    "\n",
    "Notes: \n",
    "- On the first sentence (AA) the output is [2, 0]. \n",
    "- On the second sentence (ABB) the output is [1, 2].\n",
    "- On the third sentence (BAA) the output is [2, 1]\n",
    "\n",
    "The hidden layer for this model actually outputs the counts for each letter (AA is [2, 0] for example). This means that the final weights applied can be the same as the ones used in the new \"sign(Wzy * z)\" model, and, since the inputs for the final layer will be the actual counts, no bias is required to adjust for this like in the second option.\n",
    "\n",
    "This is why the last option is also valid.\n",
    "\n",
    "#### 4. (5)\n",
    "\n",
    "Now suppose we want to use indicators instead of counts for the vector $z$. That is the $i$ th element of $z$ will be 1 if the $i$ th word appears anywhere in the sentence."
   ]
  },
  {
   "cell_type": "code",
   "execution_count": 36,
   "metadata": {},
   "outputs": [
    {
     "name": "stdout",
     "output_type": "stream",
     "text": [
      "Output logits:\n",
      "[[0.]\n",
      " [0.]]\n"
     ]
    }
   ],
   "source": [
    "# We select the sentence to process\n",
    "sentence : np.ndarray = sentences[\"S3\"]\n",
    "\n",
    "# Vocabulary size\n",
    "# (Total number of words in the vocabulary. Right now just A and B)\n",
    "vocabulary_size : int = 2\n",
    "\n",
    "# Select the exercise option to analyze\n",
    "option : int = 4\n",
    "\n",
    "# Different settings for the intermediate layer.\n",
    "# Each one represents an option in the 4.(5) question of the exam\n",
    "if option == 1:\n",
    "    st : np.ndarray = np.ones((vocabulary_size, 1))\n",
    "    Wss : np.ndarray = np.identity(vocabulary_size)\n",
    "    Wsx : np.ndarray = -np.identity(vocabulary_size)\n",
    "elif option == 2:\n",
    "    st : np.ndarray = np.ones((vocabulary_size, 1))\n",
    "    Wss : np.ndarray = np.identity(vocabulary_size)\n",
    "    Wsx : np.ndarray = -np.identity(vocabulary_size)\n",
    "elif option == 3:\n",
    "    st : np.ndarray = np.zeros((vocabulary_size, 1))\n",
    "    Wss : np.ndarray = np.identity(vocabulary_size)\n",
    "    Wsx : np.ndarray = np.identity(vocabulary_size)\n",
    "elif option == 4:\n",
    "    st : np.ndarray = np.zeros((vocabulary_size, 1))\n",
    "    Wss : np.ndarray = np.identity(vocabulary_size)\n",
    "    Wsx : np.ndarray = -np.identity(vocabulary_size)\n",
    "\n",
    "# Go through each word in the sentence\n",
    "for idx, word in enumerate(sentence):\n",
    "\n",
    "    # Each word here consists of a column vector, here the dimensionless\n",
    "    # vector is turned into a column vector\n",
    "    xt : np.ndarray = np.reshape(word, (-1, 1))\n",
    "    \n",
    "    # We get the state St from the previous state and the new word xt\n",
    "    st = f1(Wss @ st + Wsx @ xt)\n",
    "\n",
    "# Output logits\n",
    "print(\"Output logits:\")\n",
    "print(st)"
   ]
  },
  {
   "cell_type": "markdown",
   "metadata": {},
   "source": [
    "##### Notes\n",
    "\n",
    "Desired Encodings:\n",
    "- Sentence 1 (AA) - Output: [1, 0]\n",
    "- Sentence 2 (ABB) - Output: [1, 1]\n",
    "- Sentence 3 (BAA) - Output: [1, 1] \n",
    "\n",
    "Option 1:\n",
    "- Sentence 1 - Output: [0, 1]\n",
    "- Sentence 2 - Output: [0, 0]\n",
    "- Sentence 3 - Output: [0, 0] \n",
    "\n",
    "Zeros seem to be flipped with ones with respect to the desired encodings. This option suggests flipping the sign in the inputs and then adding a bias. If we think that the weights for the output consist of a negative identity matrix, and the bias has a value of 1, all of the outputs will get their actual desired value\n",
    "\n",
    "   [0, 1] * -1 = [0, -1] + 1 = [1, 0] <br>\n",
    "   [0, 0] * -1 = [0,  0] + 1 = [1, 1] <br>\n",
    "   [0, 0] * -1 = [0,  0] + 1 = [1, 1] <br>\n",
    "\n",
    "This makes me think that this is a valid option.\n",
    "\n",
    "\n",
    "Option 2: \n",
    "- Sentence 1 - Output: [0, 1]\n",
    "- Sentence 2 - Output: [0, 0]\n",
    "- Sentence 3 - Output: [0, 0] \n",
    "\n",
    "Settings are the same as option 1, both should return the same results for their hidden layer. What changes are the suggested modifications. This option suggests that both the weights and bias flip their sign. I think the weights would get lost in the product with a bunch of zeros, and the addition of a negative bias would probably switch the zeros and one into negative values, a change that will change the final labels for the predictions. So... I think its not this one.\n",
    "\n",
    "\n",
    "Option 3: \n",
    "- Sentence 1 (AA) - Output: [2, 0]\n",
    "- Sentence 2 (ABB) - Output: [1, 2]\n",
    "- Sentence 3 (BAA) - Output: [2, 1] \n",
    "\n",
    "This is the representation that we searched for in the \"4.(4)\" exercise. However, this option suggests that we don't use a bias and just multiply the hidden layer outputs (logits) by some weights. Since the logits have a higher value, we cannot use the same logits for our RNN as in the \"sign(Ws,y * z)\" output function, or the result wont be the same, it will be higher. \n",
    "\n",
    "However, the model has zeros in the right places. Could be that, after applying the sign() those changes in magnitude wont even matter. Could be this one.\n",
    "\n",
    "Option 4:\n",
    "- Sentence 1 (AA) - Output: [0, 0]\n",
    "- Sentence 2 (ABB) - Output: [0, 0]\n",
    "- Sentence 3 (BAA) - Output: [0, 0]\n",
    "\n",
    "Not useful at all. All encodings are the same and don't bring any actual useful information to the table. Definitely not this one."
   ]
  },
  {
   "cell_type": "markdown",
   "metadata": {},
   "source": [
    "----------------\n",
    "\n",
    "### Problem 6\n",
    "\n",
    "#### 6. (1)\n",
    "\n",
    "Which user-item pair is mapped to the points A, B, C, D in the $\\, \\left(f(z_1),f(z_2)\\right)-$ plane below? In other words, for each feature representation $\\, [f (z_1 ), f (z_2 )]^ T\\,$, find the corresponding user-item pair (e.g. $(a,1)$ is the pair user $a$ and item $1$) that is mapped to it using the input-to-hidden layer weights."
   ]
  },
  {
   "cell_type": "code",
   "execution_count": 78,
   "metadata": {},
   "outputs": [
    {
     "name": "stdout",
     "output_type": "stream",
     "text": [
      "Hidden Unit Output: [[2 1]]\n"
     ]
    }
   ],
   "source": [
    "# Users (a, b)\n",
    "# We use one-hot encoding for each user. \n",
    "a : np.ndarray = np.array([[1, 0]])\n",
    "b : np.ndarray = np.array([[0, 1]])\n",
    "\n",
    "# Recommended items (1, 2)\n",
    "# We use one-hot encoding once again\n",
    "one : np.ndarray = np.array([[1, 0]])\n",
    "two : np.ndarray = np.array([[0, 1]])\n",
    "\n",
    "# Hidden unit weights\n",
    "V : np.ndarray = np.array(\n",
    "    [\n",
    "        [-1, 1],\n",
    "        [ 1, 0]\n",
    "    ]\n",
    ")\n",
    "U : np.ndarray = np.array(\n",
    "    [\n",
    "        [ 1,  1],\n",
    "        [ 1, -1]\n",
    "    ]\n",
    ")\n",
    "\n",
    "# Activation function (ReLu)\n",
    "f : Callable = lambda x: np.maximum(0, x)\n",
    "\n",
    "# Select the user and item to use\n",
    "user : np.ndarray = a\n",
    "item : np.ndarray = two\n",
    "\n",
    "# Get the two outputs of the hidden units\n",
    "fz = f(user @ U + item @ V)\n",
    "\n",
    "# Hidden unit output\n",
    "print(\"Hidden Unit Output:\", fz)"
   ]
  },
  {
   "cell_type": "markdown",
   "metadata": {},
   "source": [
    "#### 6. (2) and (3)"
   ]
  },
  {
   "cell_type": "code",
   "execution_count": 79,
   "metadata": {},
   "outputs": [
    {
     "name": "stdout",
     "output_type": "stream",
     "text": [
      "Output Matrix:\n",
      "    1  2\n",
      "a [1, 1]\n",
      "b [-1, 1]\n"
     ]
    }
   ],
   "source": [
    "from typing import List\n",
    "\n",
    "# All possible user, item pairs\n",
    "user_item_pairs : List[tuple] = [\n",
    "    (a, one),\n",
    "    (a, two),\n",
    "    (b, one),\n",
    "    (b, two)\n",
    "]\n",
    "\n",
    "# Output weights and bias\n",
    "# ( -1/4, 1) = [[1, 1], [1, -1]]    POSSIBLE\n",
    "W : np.ndarray = np.array([[1, 1]])\n",
    "W0 : float = -1\n",
    "\n",
    "# Output activation function\n",
    "sign : Callable = lambda x: np.sign(x)\n",
    "\n",
    "# Initialize the list of outputs\n",
    "outputs : list = []\n",
    "\n",
    "# Go through all possible outputs\n",
    "for idx, pair in enumerate(user_item_pairs):\n",
    "\n",
    "    # Get the user and item to use from the pair tuple\n",
    "    user : np.ndarray = pair[0]\n",
    "    item : np.ndarray = pair[1]\n",
    "\n",
    "    # Get the two outputs of the hidden units\n",
    "    fz = f(user @ U + item @ V)\n",
    "\n",
    "    # Neural net output\n",
    "    out = sign(fz @ W.T + W0)\n",
    "\n",
    "    # Append to the outputs list\n",
    "    # (Convert all zeros to ones)\n",
    "    outputs.append(out.item() if out.item() != 0 else 1.0)\n",
    "\n",
    "# Resulting matrix\n",
    "print(\"Output Matrix:\")\n",
    "print(\"    1  2\")\n",
    "print(f\"a [{outputs[0]}, {outputs[1]}]\")\n",
    "print(f\"b [{outputs[2]}, {outputs[3]}]\")\n"
   ]
  },
  {
   "cell_type": "markdown",
   "metadata": {},
   "source": [
    "-------------\n",
    "\n",
    "### Problem 1\n",
    "\n",
    "#### 1.(1)"
   ]
  },
  {
   "cell_type": "code",
   "execution_count": 5,
   "metadata": {},
   "outputs": [
    {
     "name": "stdout",
     "output_type": "stream",
     "text": [
      "Reached convergence. Num errors: 1\n",
      "Theta: [[1. 1.]]\n",
      "Bias: [1]\n"
     ]
    },
    {
     "data": {
      "image/png": "[encoded data removed]",
      "text/plain": [
       "<Figure size 432x288 with 1 Axes>"
      ]
     },
     "metadata": {
      "needs_background": "light"
     },
     "output_type": "display_data"
    }
   ],
   "source": [
    "import numpy as np\n",
    "import matplotlib.pyplot as plt\n",
    "\n",
    "# Samples\n",
    "x : np.ndarray = np.array(\n",
    "    [\n",
    "        [1, 1],\n",
    "        [2, 3],\n",
    "        [3, 4],\n",
    "        [-0.5, -0.5],\n",
    "        [-1, -2],\n",
    "        [-2, -3],\n",
    "        [-3, -4],\n",
    "        [-4, -3]\n",
    "    ]\n",
    ")\n",
    "\n",
    "# Labels\n",
    "y : np.ndarray = np.array([[1, 1, 1, -1, -1, -1, -1, -1]]).T\n",
    "\n",
    "# Weights and biases\n",
    "theta : np.ndarray = np.array([[0, 0]]).T\n",
    "bias : float = 0\n",
    "\n",
    "# Number of iterations\n",
    "T : int = 1000\n",
    "\n",
    "# Number of errors\n",
    "num_errors : int = 0\n",
    "\n",
    "# Go through each iteration\n",
    "for t in range(T):\n",
    "\n",
    "    theta_prev : np.ndarray = theta\n",
    "    bias_prev : float = bias\n",
    "\n",
    "    # Go through each point in X\n",
    "    for i, xi in enumerate(x):\n",
    "\n",
    "        # We reshape xi to be a column vector\n",
    "        xi = np.reshape(xi, (-1, 1))\n",
    "\n",
    "        # We check if the generated label for Xi is wrong \n",
    "        # (has a different sign than the label Yi)\n",
    "        if (y[i] * (theta.T @ xi * bias)) <= 0:\n",
    "\n",
    "            # Update theta and the bias in case of a wrong prediction\n",
    "            theta = theta + y[i] * xi\n",
    "            bias = bias + y[i]\n",
    "\n",
    "            # Increase the error count by 1\n",
    "            num_errors += 1\n",
    "\n",
    "    # If theta has not changed\n",
    "    if (theta == theta_prev).all() and bias == bias_prev:\n",
    "        print(f\"Reached convergence. Num errors: {num_errors}\")\n",
    "        break\n",
    "\n",
    "# Print results\n",
    "print(f\"Theta: {theta.T}\")\n",
    "print(f\"Bias: {bias}\")\n",
    "\n",
    "# Coordinates for the boundary\n",
    "# To get the boundary we set the equation: theta[0] * x1 + theta[1] * x2 + bias \n",
    "# equal to 0 and then reorganize the equation to express x2 in terms of x1.\n",
    "# There, my x1 will be equal to x and x2 to y in a regular x-y plot.\n",
    "boundary_x = np.linspace(-4, 4)\n",
    "boundary_y = (bias - theta[0] * boundary_x) / theta[1]\n",
    "\n",
    "# Plot the boundary\n",
    "plt.plot(boundary_x, boundary_y)\n",
    "plt.scatter(x[:, 0], x[:, 1], c = y)\n",
    "plt.xlabel(\"X1\")\n",
    "plt.ylabel(\"X2\")\n",
    "plt.title(\"Decision Boundary\")\n",
    "plt.show()"
   ]
  },
  {
   "cell_type": "markdown",
   "metadata": {},
   "source": [
    "#### 1. (2)"
   ]
  },
  {
   "cell_type": "code",
   "execution_count": 9,
   "metadata": {},
   "outputs": [
    {
     "name": "stdout",
     "output_type": "stream",
     "text": [
      "Reached convergence. Num errors: 0\n",
      "Theta: [[0.5 0.5]]\n"
     ]
    },
    {
     "data": {
      "image/png": "[encoded data removed]",
      "text/plain": [
       "<Figure size 432x288 with 1 Axes>"
      ]
     },
     "metadata": {
      "needs_background": "light"
     },
     "output_type": "display_data"
    }
   ],
   "source": [
    "# Weights and biases\n",
    "theta : np.ndarray = np.array([[0.5, 0.5]]).T\n",
    "\n",
    "# Number of iterations\n",
    "T : int = 1000\n",
    "\n",
    "# Number of errors\n",
    "num_errors : int = 0\n",
    "\n",
    "# Go through each iteration\n",
    "for t in range(T):\n",
    "\n",
    "    theta_prev : np.ndarray = theta\n",
    "\n",
    "    # Go through each point in X\n",
    "    for i, xi in enumerate(x):\n",
    "\n",
    "        # We reshape xi to be a column vector\n",
    "        xi = np.reshape(xi, (-1, 1))\n",
    "\n",
    "        # We check if the generated label for Xi is wrong \n",
    "        # (has a different sign than the label Yi)\n",
    "        if (y[i] * (theta.T @ xi)) <= 0:\n",
    "\n",
    "            # Update theta and the bias in case of a wrong prediction\n",
    "            theta = theta + y[i] * xi\n",
    "\n",
    "            # Increase the error count by 1\n",
    "            num_errors += 1\n",
    "\n",
    "    # If theta has not changed\n",
    "    if (theta == theta_prev).all():\n",
    "        print(f\"Reached convergence. Num errors: {num_errors}\")\n",
    "        break\n",
    "\n",
    "# Print results\n",
    "print(f\"Theta: {theta.T}\")\n",
    "\n",
    "# Coordinates for the boundary\n",
    "# To get the boundary we set the equation: theta[0] * x1 + theta[1] * x2\n",
    "# equal to 0 and then reorganize the equation to express x2 in terms of x1.\n",
    "# There, my x1 will be equal to x and x2 to y in a regular x-y plot.\n",
    "boundary_x = np.linspace(-4, 4)\n",
    "boundary_y = (- theta[0] * boundary_x) / theta[1]\n",
    "\n",
    "# Plot the boundary\n",
    "plt.plot(boundary_x, boundary_y)\n",
    "plt.scatter(x[:, 0], x[:, 1], c = y)\n",
    "plt.xlabel(\"X1\")\n",
    "plt.ylabel(\"X2\")\n",
    "plt.title(\"Decision Boundary\")\n",
    "plt.show()"
   ]
  },
  {
   "cell_type": "markdown",
   "metadata": {},
   "source": [
    "#### 1. (3)"
   ]
  },
  {
   "cell_type": "code",
   "execution_count": 11,
   "metadata": {},
   "outputs": [
    {
     "name": "stdout",
     "output_type": "stream",
     "text": [
      "Rotated [1. 1.]:  [-0.3660254  1.3660254]\n",
      "Rotated [2. 3.]:  [-1.59807621  3.23205081]\n",
      "Rotated [3. 4.]:  [-1.96410162  4.59807621]\n",
      "Rotated [-0.5 -0.5]:  [ 0.1830127 -0.6830127]\n",
      "Rotated [-1. -2.]:  [ 1.23205081 -1.8660254 ]\n",
      "Rotated [-2. -3.]:  [ 1.59807621 -3.23205081]\n",
      "Rotated [-3. -4.]:  [ 1.96410162 -4.59807621]\n",
      "Rotated [-4. -3.]:  [ 0.59807621 -4.96410162]\n"
     ]
    }
   ],
   "source": [
    "# Rotation matrix\n",
    "R : np.ndarray = np.array(\n",
    "    [\n",
    "        [np.cos(np.deg2rad(60)), -np.sin(np.deg2rad(60))],\n",
    "        [np.sin(np.deg2rad(60)),  np.cos(np.deg2rad(60))]\n",
    "    ]\n",
    ")\n",
    "\n",
    "# Rotated samples\n",
    "rotated_x = x @ R.T\n",
    "\n",
    "# Print the rotated samples\n",
    "for idx, sample in enumerate(rotated_x):\n",
    "    print(f\"Rotated {x[idx, :]}: \", sample)"
   ]
  },
  {
   "cell_type": "markdown",
   "metadata": {},
   "source": [
    "#### 1. (4)"
   ]
  },
  {
   "cell_type": "code",
   "execution_count": 12,
   "metadata": {},
   "outputs": [
    {
     "name": "stdout",
     "output_type": "stream",
     "text": [
      "Reached convergence. Num errors: 1\n",
      "Theta: [[-0.3660254  1.3660254]]\n",
      "Bias: [1]\n"
     ]
    },
    {
     "data": {
      "image/png": "[encoded data removed]",
      "text/plain": [
       "<Figure size 432x288 with 1 Axes>"
      ]
     },
     "metadata": {
      "needs_background": "light"
     },
     "output_type": "display_data"
    }
   ],
   "source": [
    "# Weights and biases\n",
    "theta : np.ndarray = np.array([[0, 0]]).T\n",
    "bias : float = 0\n",
    "\n",
    "# Number of iterations\n",
    "T : int = 1000\n",
    "\n",
    "# Number of errors\n",
    "num_errors : int = 0\n",
    "\n",
    "# Go through each iteration\n",
    "for t in range(T):\n",
    "\n",
    "    theta_prev : np.ndarray = theta\n",
    "    bias_prev : float = bias\n",
    "\n",
    "    # Go through each point in X\n",
    "    for i, xi in enumerate(rotated_x):\n",
    "\n",
    "        # We reshape xi to be a column vector\n",
    "        xi = np.reshape(xi, (-1, 1))\n",
    "\n",
    "        # We check if the generated label for Xi is wrong \n",
    "        # (has a different sign than the label Yi)\n",
    "        if (y[i] * (theta.T @ xi * bias)) <= 0:\n",
    "\n",
    "            # Update theta and the bias in case of a wrong prediction\n",
    "            theta = theta + y[i] * xi\n",
    "            bias = bias + y[i]\n",
    "\n",
    "            # Increase the error count by 1\n",
    "            num_errors += 1\n",
    "\n",
    "    # If theta has not changed\n",
    "    if (theta == theta_prev).all() and bias == bias_prev:\n",
    "        print(f\"Reached convergence. Num errors: {num_errors}\")\n",
    "        break\n",
    "\n",
    "# Print results\n",
    "print(f\"Theta: {theta.T}\")\n",
    "print(f\"Bias: {bias}\")\n",
    "\n",
    "# Coordinates for the boundary\n",
    "# To get the boundary we set the equation: theta[0] * x1 + theta[1] * x2 + bias \n",
    "# equal to 0 and then reorganize the equation to express x2 in terms of x1.\n",
    "# There, my x1 will be equal to x and x2 to y in a regular x-y plot.\n",
    "boundary_x = np.linspace(-2, 2)\n",
    "boundary_y = (- bias - theta[0] * boundary_x) / theta[1]\n",
    "\n",
    "# Plot the boundary\n",
    "plt.plot(boundary_x, boundary_y)\n",
    "plt.scatter(rotated_x[:, 0], rotated_x[:, 1], c = y)\n",
    "plt.xlabel(\"X1\")\n",
    "plt.ylabel(\"X2\")\n",
    "plt.title(\"Decision Boundary\")\n",
    "plt.show()"
   ]
  },
  {
   "cell_type": "code",
   "execution_count": null,
   "metadata": {},
   "outputs": [],
   "source": []
  }
 ],
 "metadata": {
  "kernelspec": {
   "display_name": "Python 3.9.6 ('Machine_Learning_with_Python-7V858pgh')",
   "language": "python",
   "name": "python3"
  },
  "language_info": {
   "codemirror_mode": {
    "name": "ipython",
    "version": 3
   },
   "file_extension": ".py",
   "mimetype": "text/x-python",
   "name": "python",
   "nbconvert_exporter": "python",
   "pygments_lexer": "ipython3",
   "version": "3.9.6"
  },
  "orig_nbformat": 4,
  "vscode": {
   "interpreter": {
    "hash": "dbf55fd141a929e96d217693ff943f340da010ee827d3bb7b01df8ee1539f1d0"
   }
  }
 },
 "nbformat": 4,
 "nbformat_minor": 2
}
