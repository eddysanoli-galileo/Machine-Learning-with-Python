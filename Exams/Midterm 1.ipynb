{
 "cells": [
  {
   "cell_type": "markdown",
   "metadata": {},
   "source": [
    "## Midterm 1\n",
    "\n",
    "### Problem 1"
   ]
  },
  {
   "cell_type": "code",
   "execution_count": 105,
   "metadata": {},
   "outputs": [],
   "source": [
    "import numpy as np\n",
    "from numpy.random import default_rng\n",
    "import matplotlib.pyplot as plt\n",
    "from nptyping import Float, NDArray, Shape\n",
    "from typing import Any, Optional, Tuple\n",
    "\n",
    "# Create a default RNG numpy generator\n",
    "rng = default_rng()\n",
    "\n",
    "# Declare the linear perceptron algorithm\n",
    "def linearPerceptron(\n",
    "    x : NDArray[Shape[\"*, 2\"], Any], \n",
    "    y : NDArray[Shape[\"*, 1\"], Any], \n",
    "    epochs : int = 100, \n",
    "    learning_rate : float = 0.1, regularization : float = 0,\n",
    "    mode : str = \"original\",\n",
    "    shuffle : bool = True,\n",
    "    roll : Optional[int] = None\n",
    "    \n",
    ") -> Tuple[NDArray[Shape[\"3\"], Float], np.ndarray]:\n",
    "\n",
    "    # Parameters\n",
    "    # (Parameters + bias)\n",
    "    theta : np.ndarray = np.array([[0, 0, 0]])\n",
    "    theta_prev = theta.copy()\n",
    "\n",
    "    # Cumulative mistakes for each point in \"x\"\n",
    "    mistakes : np.ndarray = np.zeros_like(y)\n",
    "\n",
    "    # Generate an array of indices that go from 0 to the number\n",
    "    # of data points. \n",
    "    indices : np.ndarray = np.arange(len(x))\n",
    "\n",
    "    # Shift the order of the array by a certain number of positions to the right\n",
    "    # Roll = -1: [0, 1, 2] -> [2, 0, 1]\n",
    "    if roll:\n",
    "        indices = np.roll(indices, -roll)\n",
    "\n",
    "    # Go through each epoch\n",
    "    for t in range(epochs):\n",
    "\n",
    "        # The previous indices are shuffled in the case that the associated option is enabled\n",
    "        if shuffle:\n",
    "            rng.shuffle(indices)\n",
    "\n",
    "        # Go through each data point\n",
    "        for i in indices:\n",
    "\n",
    "            x_i = x[i, :]\n",
    "            y_i = y[i]\n",
    "\n",
    "\n",
    "            # Append a 1 at the end of Xi to make the bias operation be\n",
    "            # already included in the dot product\n",
    "            x_i = np.append(x_i, 1)\n",
    "\n",
    "            # Get the prediction for the \"ith\" datapoint\n",
    "            y_pred = np.dot(theta, x_i)\n",
    "\n",
    "            # Estimate the labels for all points using the new theta\n",
    "            y_hat = np.sign(np.dot(theta[0, 0:2], x.T) + theta[0, 2])\n",
    "\n",
    "            # print(\"DATA POINT:\", x_i, \"/ TRUE LABEL:\", y_i, \"/ PREDICTED:\", y_pred)\n",
    "            \n",
    "            # A prediction mistakes vector is calculated (y_mistakes)\n",
    "            # - Apply a sign function to set it to -1 or 1.\n",
    "            # - Values equal to 0 are set to -1 as well\n",
    "            # - All +1 values are set to 0, cause they are not mistakes\n",
    "            # - All -1 values are set to 1, cause they ARE mistakes\n",
    "            # - The prediction is reshaped into a (10,1) array\n",
    "            # - The resulting y_mistakes version is added to the mistakes vector\n",
    "            y_mistakes = y_hat.copy()\n",
    "            y_mistakes[y_hat == 0] = -1\n",
    "            y_mistakes[y_mistakes == 1] = 0\n",
    "            y_mistakes[y_mistakes == -1] = 1\n",
    "            y_mistakes = np.reshape(y_mistakes, (-1, 1))\n",
    "            # mistakes = mistakes + y_mistakes\n",
    "\n",
    "            # If the real Y and predicted Y are different (Their product is negative)\n",
    "            # y = -1 | pred = -1 | out = 1\n",
    "            # y = -1 | pred = +1 | out = -1\n",
    "            # y = +1 | pred = -1 | out = -1\n",
    "            # y = +1 | pred = +1 | out = 1 \n",
    "            if mode == \"original\":\n",
    "                if y_i * y_pred <= 0:\n",
    "                    # print(\"OPERATION:\", x_i, theta, \"=\", y_pred)\n",
    "                    theta = theta + y_i * x_i\n",
    "                    # print(theta)\n",
    "                    mistakes[i] += 1\n",
    "\n",
    "\n",
    "            # Update: Stochastic Gradient Descent\n",
    "            elif mode == \"sgd\":\n",
    "\n",
    "                loss = np.mean(np.maximum(0, 1 - y_i * y_pred))\n",
    "\n",
    "                # dLoss_dTheta = Gradient of the hinge loss\n",
    "                dLoss_dTheta = - (y_i * x_i) + (regularization * theta)\n",
    "                theta = theta - learning_rate * dLoss_dTheta\n",
    "\n",
    "            # Take note of the previous value for the estimation for next iteration\n",
    "            theta_prev = theta.copy()\n",
    "                \n",
    "    # Return the parameters\n",
    "    return theta, mistakes"
   ]
  },
  {
   "cell_type": "markdown",
   "metadata": {},
   "source": [
    "#### 1. (1) / 1. (2)\n",
    "\n",
    "Get the parameters for the final perceptron, when we initialize the parameters to all zero values and run the linear perceptron algorithm through these points in a particular order until convergence."
   ]
  },
  {
   "cell_type": "code",
   "execution_count": 181,
   "metadata": {},
   "outputs": [
    {
     "name": "stdout",
     "output_type": "stream",
     "text": [
      "Parameters: [[ 2  2 -9]]\n",
      "Mistakes:  [[1 7 4 2 2 6 0 1 0 0]]\n"
     ]
    },
    {
     "data": {
      "image/png": "[encoded data removed]",
      "text/plain": [
       "<Figure size 432x288 with 1 Axes>"
      ]
     },
     "metadata": {
      "needs_background": "light"
     },
     "output_type": "display_data"
    }
   ],
   "source": [
    "# ===============\n",
    "# DATA AND PARAMETERS\n",
    "# ===============\n",
    "\n",
    "# Epochs\n",
    "epochs : int = 100\n",
    "\n",
    "# Data points / Coordinates\n",
    "x : np.ndarray = np.array([\n",
    "    [0, 0],\n",
    "    [2, 0],\n",
    "    [3, 0],\n",
    "    [0, 2],\n",
    "    [2, 2],\n",
    "    [5, 1],\n",
    "    [5, 2],\n",
    "    [2, 4],\n",
    "    [4, 4],\n",
    "    [5, 5]\n",
    "])\n",
    "\n",
    "# Data labels\n",
    "y : np.ndarray = np.array([[-1, -1, -1, -1, -1, 1, 1, 1, 1, 1]]).T\n",
    "\n",
    "# ===============\n",
    "# ALGORITHM\n",
    "# ===============\n",
    "\n",
    "# Roll (Shuffle = False):\n",
    "# 0 = Nope (Epochs 15) = [[ 2 12 12  2  3 14  0  0  0  0]]\n",
    "# 1 = Okay (Epochs 15) = [[ 1  4  2  1  0  3  0  0  0  0]]\n",
    "# 2 = Nope (Epochs 15) = [[ 1 13 12  2  3 15  0  0  0  0]]\n",
    "# 3 = Nope (Epochs 15) = [[ 1 13 13  2  3 15  0  0  0  0]]\n",
    "# 4 = Nope (Epochs 15) = [[ 1 14 11  0  5 15  0  0  0  0]]\n",
    "# 5 = Nope (Epochs 15) = [[ 1 13 13  2  4 15  0  0  0  0]]\n",
    "# 6 = Nope (Epochs 15) = [[ 1 12 12  3  3 13  1  0  0  0]]\n",
    "# 7 = Okay (Epochs 15) = [[ 1  7  4  2  2  6  0  1  0  0]]\n",
    "# 8 = Nope (Epochs 15) = [[ 1 12 11  3  4 13  0  0  1  0]]\n",
    "# 9 = Okay (Epochs 15) = [[ 1  6  4  2  2  5  0  0  0  1]]\n",
    "theta, mistakes = linearPerceptron(x, y, shuffle=False, epochs = 20, roll=7)\n",
    "\n",
    "print(\"Parameters:\", theta)\n",
    "print(\"Mistakes: \", mistakes.T)\n",
    "\n",
    "# ===============\n",
    "# PLOT\n",
    "# ===============\n",
    "\n",
    "# Boundary\n",
    "x_line = np.linspace(0, 5, 30)\n",
    "y_line = (theta[0, 0] * x_line + theta[0, 2]) / -theta[0, 1]\n",
    "plt.plot(x_line, y_line, '--', label='Classifier')\n",
    "\n",
    "# Plot the points to classify\n",
    "plt.scatter(x[:, 0], x[:, 1], c = y[:,0])\n",
    "\n",
    "# Plot settings\n",
    "plt.xlabel(\"X1\")\n",
    "plt.ylabel(\"X2\")\n",
    "plt.grid()\n",
    "plt.show()"
   ]
  },
  {
   "cell_type": "markdown",
   "metadata": {},
   "source": [
    "#### 1. (3)\n",
    "\n",
    "Get the perceptron parameters but now maximizing for the margin separator"
   ]
  },
  {
   "cell_type": "code",
   "execution_count": 180,
   "metadata": {},
   "outputs": [
    {
     "name": "stdout",
     "output_type": "stream",
     "text": [
      "Parameters: [[0.99995702 0.99994533]] [-4.99973041]\n"
     ]
    },
    {
     "name": "stderr",
     "output_type": "stream",
     "text": [
      "c:\\Users\\eddysanoli\\.virtualenvs\\Machine_Learning_with_Python-7V858pgh\\lib\\site-packages\\sklearn\\svm\\_base.py:1225: ConvergenceWarning: Liblinear failed to converge, increase the number of iterations.\n",
      "  warnings.warn(\n"
     ]
    },
    {
     "data": {
      "image/png": "[encoded data removed]",
      "text/plain": [
       "<Figure size 432x288 with 1 Axes>"
      ]
     },
     "metadata": {
      "needs_background": "light"
     },
     "output_type": "display_data"
    }
   ],
   "source": [
    "from sklearn.svm import LinearSVC\n",
    "\n",
    "# ===============\n",
    "# ALGORITHM\n",
    "# ===============\n",
    "\n",
    "# Train the linear classifier\n",
    "clf = LinearSVC(C = 60, loss=\"hinge\", random_state=100)\n",
    "clf.fit(x, np.reshape(y, (-1,)) )\n",
    "\n",
    "# Print the trained parameters\n",
    "print(\"Parameters:\", clf.coef_, clf.intercept_)\n",
    "\n",
    "# ===============\n",
    "# PLOT\n",
    "# ===============\n",
    "\n",
    "# Boundary\n",
    "x_line = np.linspace(0, 5, 30)\n",
    "y_line = (clf.coef_[0,0] * x_line + clf.intercept_) / -clf.coef_[0,1]\n",
    "plt.plot(x_line, y_line, '--', label='Classifier')\n",
    "\n",
    "# Plot the points to classify\n",
    "plt.scatter(x[:, 0], x[:, 1], c = y[:,0])\n",
    "\n",
    "# Plot settings\n",
    "plt.xlabel(\"X1\")\n",
    "plt.ylabel(\"X2\")\n",
    "plt.grid()\n",
    "plt.show()"
   ]
  },
  {
   "cell_type": "markdown",
   "metadata": {},
   "source": [
    "#### 1. (5)\n",
    "\n",
    "Using the parameters $\\theta$ and $\\theta_0$ corresponding to the maximum margin separator, what is the sum of Hinge losses evaluated on each example?"
   ]
  },
  {
   "cell_type": "code",
   "execution_count": 192,
   "metadata": {},
   "outputs": [
    {
     "name": "stdout",
     "output_type": "stream",
     "text": [
      "Sum of Losses: 0.00010934267409989928\n"
     ]
    }
   ],
   "source": [
    "# Define the hinge loss function\n",
    "def hinge_loss(z):\n",
    "    return np.maximum(0,1-z)\n",
    "\n",
    "# Get the parameters from the previous training\n",
    "theta = clf.coef_.copy()\n",
    "theta0 = clf.intercept_.copy()\n",
    "\n",
    "# Get the hinge loss for all samples\n",
    "all_losses = hinge_loss(y * (theta @ x.T + theta0).T)\n",
    "\n",
    "# Print the sum of all losses\n",
    "print(\"Sum of Losses:\", np.sum(all_losses))"
   ]
  },
  {
   "cell_type": "markdown",
   "metadata": {},
   "source": [
    "#### 1. (6)\n",
    "\n",
    "Suppose we modify the maximum margin solution a bit and divide both $\\theta$ and $\\theta_0$ by 2. What is the sum of hinge losses evaluated on each example for this new separator?"
   ]
  },
  {
   "cell_type": "code",
   "execution_count": 193,
   "metadata": {},
   "outputs": [
    {
     "name": "stdout",
     "output_type": "stream",
     "text": [
      "Sum of Losses: 1.5001523268347774\n"
     ]
    }
   ],
   "source": [
    "# Divide the parameters by 2\n",
    "theta = theta / 2\n",
    "theta0 = theta0 / 2\n",
    "\n",
    "# Get the hinge loss for all samples\n",
    "all_losses = hinge_loss(y * (theta @ x.T + theta0).T)\n",
    "\n",
    "# Print the sum of all losses\n",
    "print(\"Sum of Losses:\", np.sum(all_losses))"
   ]
  },
  {
   "cell_type": "markdown",
   "metadata": {},
   "source": [
    "-----------\n",
    "\n",
    "### Problem 2\n",
    "\n",
    "#### 2. (3)"
   ]
  },
  {
   "cell_type": "code",
   "execution_count": 194,
   "metadata": {},
   "outputs": [
    {
     "name": "stdout",
     "output_type": "stream",
     "text": [
      "The dataset:\n",
      " [[0 0]\n",
      " [2 0]\n",
      " [1 1]\n",
      " [0 2]\n",
      " [3 3]\n",
      " [4 1]\n",
      " [5 2]\n",
      " [1 4]\n",
      " [4 4]\n",
      " [5 5]]\n",
      " \n",
      "Transformed dataset:\n",
      " [[ 1.          0.          0.          0.        ]\n",
      " [ 1.          4.          0.          0.        ]\n",
      " [ 1.          1.          1.41421356  1.        ]\n",
      " [ 1.          0.          0.          4.        ]\n",
      " [ 1.          9.         12.72792206  9.        ]\n",
      " [ 1.         16.          5.65685425  1.        ]\n",
      " [ 1.         25.         14.14213562  4.        ]\n",
      " [ 1.          1.          5.65685425 16.        ]\n",
      " [ 1.         16.         22.627417   16.        ]\n",
      " [ 1.         25.         35.35533906 25.        ]]\n",
      " \n",
      "Theta0 is given by  -110.0\n",
      " \n",
      "Theta vector is given by :\n",
      " [ 21.       -22.627417  22.      ]\n"
     ]
    }
   ],
   "source": [
    "# perceptron learning algorithm\n",
    "# let w be the weight vector\n",
    "# w=[theta0,theta1,theta2,theta3]\n",
    "# theta=[theta1,theta2,theta3]\n",
    "# thet0 is the bias bias term\n",
    "\n",
    "# perceptron learning algorithm:\n",
    "# for each example x\n",
    "# update w if y_pred=sign(wTx)!=y where y is the true label for x\n",
    "# then w<-w+y*x update w\n",
    "\n",
    "# Define the dataset\n",
    "dataset = np.array([\n",
    "    [0, 0],\n",
    "    [2, 0],\n",
    "    [1, 1],\n",
    "    [0, 2],\n",
    "    [3, 3],\n",
    "    [4, 1],\n",
    "    [5, 2],\n",
    "    [1, 4],\n",
    "    [4, 4],\n",
    "    [5, 5]\n",
    "])\n",
    "print(\"The dataset:\\n\",dataset)\n",
    "print(\" \")\n",
    "\n",
    "# Define the kernel using lambda function\n",
    "k = lambda x: np.array([\n",
    "    x[0]**2,\n",
    "    np.sqrt(2)*x[0]*x[1],\n",
    "    x[1]**2\n",
    "])\n",
    "\n",
    "# Transform the dataset using quadratic kernel\n",
    "data_trans=[]\n",
    "for x in map(k, dataset):\n",
    "    data_trans.append(x)\n",
    "\n",
    "# Convert the transformed data into a numpy array\n",
    "data_trans = np.array(data_trans)\n",
    "\n",
    "# Combined ones and data_trans to get the new data\n",
    "# ones vector got placed as the first column in the transformed dataset\n",
    "data_trans=np.hstack([np.ones(dataset.shape[0]).reshape(dataset.shape[0],1),data_trans]) # this is done for to calculate the bias term\n",
    "print(\"Transformed dataset:\\n\",data_trans)\n",
    "\n",
    "# Intialize the parameter vector with zeros\n",
    "w = np.zeros(4) \n",
    "\n",
    "# store the mistakes in a list\n",
    "mistakes=[1,65,11,31,72,30,0,21,4,15]\n",
    "\n",
    "label=[-1,-1,-1,-1,-1,1,1,1,1,1]\n",
    "\n",
    "for i in range(dataset.shape[0]):\n",
    "    \n",
    "    # mistakes got multiplied as according to the perceptron algorithm\n",
    "    # the weight vector gets updated only if for each example the algorithm makes\n",
    "    # mistake\n",
    "    w = w + mistakes[i] * label[i] * data_trans[i] \n",
    "\n",
    "\n",
    "print(\" \")\n",
    "theta0=w[0]\n",
    "print(\"Theta0 is given by \",theta0)\n",
    "print(\" \")\n",
    "theta=w[1:]\n",
    "print(\"Theta vector is given by :\\n\",theta)"
   ]
  },
  {
   "cell_type": "markdown",
   "metadata": {},
   "source": [
    "-------\n",
    "\n",
    "### Problem 4\n",
    "\n",
    "#### 4. (4)"
   ]
  },
  {
   "cell_type": "code",
   "execution_count": 152,
   "metadata": {},
   "outputs": [
    {
     "name": "stdout",
     "output_type": "stream",
     "text": [
      "[[ 1 -1]\n",
      " [-1  1]]\n"
     ]
    }
   ],
   "source": [
    "# Y1 = [\n",
    "#   [ 1 -1]\n",
    "#   [-1  1]\n",
    "# ]\n",
    "\n",
    "u : np.ndarray = np.array([[1,-1]]).T\n",
    "v : np.ndarray = np.array([[1, -1]]).T\n",
    "\n",
    "# POSSIBLE\n",
    "print(u @ v.T)"
   ]
  },
  {
   "cell_type": "code",
   "execution_count": 156,
   "metadata": {},
   "outputs": [
    {
     "name": "stdout",
     "output_type": "stream",
     "text": [
      "[[0 1]\n",
      " [0 1]]\n"
     ]
    }
   ],
   "source": [
    "# Y2 = [\n",
    "#   [ 1  0]\n",
    "#   [ 0  1]\n",
    "# ]\n",
    "\n",
    "u : np.ndarray = np.array([[1, 1]]).T\n",
    "v : np.ndarray = np.array([[0, 1]]).T\n",
    "\n",
    "# NOT POSSIBLE\n",
    "print(u @ v.T)"
   ]
  },
  {
   "cell_type": "code",
   "execution_count": 157,
   "metadata": {},
   "outputs": [
    {
     "name": "stdout",
     "output_type": "stream",
     "text": [
      "[[ 1  1]\n",
      " [-1 -1]]\n"
     ]
    }
   ],
   "source": [
    "# Y3 = [\n",
    "#   [ 1  1]\n",
    "#   [-1 -1]\n",
    "# ]\n",
    "\n",
    "u : np.ndarray = np.array([[1, -1]]).T\n",
    "v : np.ndarray = np.array([[1, 1]]).T\n",
    "\n",
    "# NOT POSSIBLE\n",
    "print(u @ v.T)"
   ]
  },
  {
   "cell_type": "markdown",
   "metadata": {},
   "source": [
    "----------------\n",
    "\n",
    "### Problem 5"
   ]
  },
  {
   "cell_type": "code",
   "execution_count": 33,
   "metadata": {},
   "outputs": [
    {
     "data": {
      "image/png": "[encoded data removed]",
      "text/plain": [
       "<Figure size 432x288 with 1 Axes>"
      ]
     },
     "metadata": {
      "needs_background": "light"
     },
     "output_type": "display_data"
    }
   ],
   "source": [
    "x : np.ndarray = np.array([\n",
    "    [-3, 3],\n",
    "    [-2, 1],\n",
    "    [-1.5, 4],\n",
    "    [-0.1, 3.5],\n",
    "    [0.2, 4],\n",
    "    [2, 2.8],\n",
    "    [1.8, 2.1],\n",
    "    [3.5, 3],\n",
    "    [-2, -2],\n",
    "    [-2.5, -2.5],\n",
    "    [-3, -5],\n",
    "    [-1.8, -3],\n",
    "    [1.5, -2],\n",
    "    [1, -2.4], \n",
    "    [1.3, -4]\n",
    "])\n",
    "\n",
    "y : np.ndarray = np.array([[1, 1, -1, 1, -1, -1, 1, -1, -1, -1, 1, 1, 1, 1, -1]]).T\n",
    "\n",
    "# ===============\n",
    "# PLOT\n",
    "# ===============\n",
    "\n",
    "# Boundary Z1\n",
    "z1_x = np.linspace(-3, 3, 30)\n",
    "z1_y = 2 * z1_x \n",
    "plt.plot(z1_x, z1_y, '-', label='z1')\n",
    "\n",
    "# Boundary Z2\n",
    "z2_x = np.linspace(-3, 4, 30)\n",
    "z2_y = 0.7 * z2_x \n",
    "plt.plot(z2_x, z2_y, '-', label='z2')\n",
    "\n",
    "# Plot the points to classify\n",
    "plt.scatter(x[:, 0], x[:, 1], c = y[:,0])\n",
    "\n",
    "# Name each dot in the plot\n",
    "for i, txt in enumerate(np.arange(len(x))):\n",
    "    plt.annotate(txt, (x[i,0] + 0.2, x[i,1]))\n",
    "\n",
    "# Plot settings\n",
    "plt.xlabel(\"X1\")\n",
    "plt.ylabel(\"X2\")\n",
    "plt.grid()\n",
    "plt.show()\n",
    "\n",
    "\n"
   ]
  },
  {
   "cell_type": "code",
   "execution_count": 36,
   "metadata": {},
   "outputs": [
    {
     "data": {
      "image/png": "[encoded data removed]",
      "text/plain": [
       "<Figure size 432x288 with 1 Axes>"
      ]
     },
     "metadata": {
      "needs_background": "light"
     },
     "output_type": "display_data"
    }
   ],
   "source": [
    "# ===============\n",
    "# MAP TO F1/F2 SPACE\n",
    "# ===============\n",
    "\n",
    "z1 = 2*x[:,0] - x[:,1]\n",
    "z2 = 0.7*x[:,0] - x[:,1]\n",
    "\n",
    "f1 = np.maximum(0, z1)\n",
    "f2 = np.maximum(0, z2)\n",
    "\n",
    "# ===============\n",
    "# NEW PLOT\n",
    "# ===============\n",
    "\n",
    "pts = 15\n",
    "plt.scatter(f1[0:pts], f2[0:pts], c = y[0:pts,0])\n",
    "\n",
    "# Name each dot in the plot\n",
    "for i, txt in enumerate(np.arange(len(x))):\n",
    "    plt.annotate(txt, (f1[i] + 0.2, f2[i]))\n",
    "\n",
    "plt.xlabel(\"F1\")\n",
    "plt.ylabel(\"F2\")\n",
    "plt.grid()\n",
    "plt.show()\n"
   ]
  },
  {
   "cell_type": "code",
   "execution_count": null,
   "metadata": {},
   "outputs": [],
   "source": []
  }
 ],
 "metadata": {
  "kernelspec": {
   "display_name": "Python 3.9.6 ('Machine_Learning_with_Python-7V858pgh')",
   "language": "python",
   "name": "python3"
  },
  "language_info": {
   "codemirror_mode": {
    "name": "ipython",
    "version": 3
   },
   "file_extension": ".py",
   "mimetype": "text/x-python",
   "name": "python",
   "nbconvert_exporter": "python",
   "pygments_lexer": "ipython3",
   "version": "3.9.6"
  },
  "orig_nbformat": 4,
  "vscode": {
   "interpreter": {
    "hash": "dbf55fd141a929e96d217693ff943f340da010ee827d3bb7b01df8ee1539f1d0"
   }
  }
 },
 "nbformat": 4,
 "nbformat_minor": 2
}
