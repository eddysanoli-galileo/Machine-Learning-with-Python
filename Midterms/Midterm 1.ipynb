{
 "cells": [
  {
   "cell_type": "code",
   "execution_count": 23,
   "metadata": {},
   "outputs": [
    {
     "name": "stdout",
     "output_type": "stream",
     "text": [
      "Parameters: [[  4   2 -13]]\n"
     ]
    },
    {
     "data": {
      "image/png": "[encoded data removed]",
      "text/plain": [
       "<Figure size 432x288 with 1 Axes>"
      ]
     },
     "metadata": {
      "needs_background": "light"
     },
     "output_type": "display_data"
    }
   ],
   "source": [
    "import numpy as np\n",
    "from numpy.random import default_rng\n",
    "import matplotlib.pyplot as plt\n",
    "\n",
    "# Create a default RNG numpy generator\n",
    "rng = default_rng()\n",
    "\n",
    "# Data points / Coordinates\n",
    "x : np.ndarray = np.array([\n",
    "    [0, 0],\n",
    "    [2, 0],\n",
    "    [3, 0],\n",
    "    [0, 2],\n",
    "    [2, 2],\n",
    "    [5, 1],\n",
    "    [5, 2],\n",
    "    [2, 4],\n",
    "    [4, 4],\n",
    "    [5, 5]\n",
    "])\n",
    "\n",
    "# Data labels\n",
    "y : np.ndarray = np.array([[-1, -1, -1, -1, -1, 1, 1, 1, 1, 1]]).T\n",
    "\n",
    "# Parameters\n",
    "# (Parameters + bias)\n",
    "theta : np.ndarray = np.array([[0, 0, 0]])\n",
    "\n",
    "# Epochs\n",
    "epochs : int = 100\n",
    "\n",
    "for t in range(epochs):\n",
    "\n",
    "    # Generate an array of indices that go from 0 to the number\n",
    "    # of data points. We shuffle those indices to get a random order\n",
    "    # for the data points each time.\n",
    "    indices : np.ndarray = np.arange(len(x))\n",
    "    rng.shuffle(indices)\n",
    "\n",
    "    for i in indices:\n",
    "\n",
    "        x_i = x[i, :]\n",
    "        y_i = y[i]\n",
    "\n",
    "        # Append a 1 at the end of Xi to make the bias operation be\n",
    "        # already included in the dot product\n",
    "        x_i = np.append(x_i, 1)\n",
    "\n",
    "        # Get the prediction for the \"ith\" datapoint\n",
    "        y_pred = np.dot(theta, x_i)\n",
    "\n",
    "        # If the real Y and predicted Y are different (Their product is negative)\n",
    "        # y = -1 | pred = -1 | out = 1\n",
    "        # y = -1 | pred = +1 | out = -1\n",
    "        # y = +1 | pred = -1 | out = -1\n",
    "        # y = +1 | pred = +1 | out = 1\n",
    "        if y_i * y_pred <= 0:\n",
    "\n",
    "            # Theta is updated\n",
    "            theta = theta + y_i * x_i\n",
    "\n",
    "# Print the parameters\n",
    "print(\"Parameters:\", theta)\n",
    "\n",
    "# Boundary\n",
    "x_line = np.linspace(0, 5, 30)\n",
    "y_line = (theta[0, 0] * x_line + theta[0, 2]) / -theta[0, 1]\n",
    "plt.plot(x_line, y_line, '--', label='Classifier')\n",
    "\n",
    "# Plot the points to classify\n",
    "plt.scatter(x[:, 0], x[:, 1], c = y[:,0])\n",
    "\n",
    "# Plot settings\n",
    "plt.xlabel(\"X1\")\n",
    "plt.ylabel(\"X2\")\n",
    "# plt.legend(loc='best')\n",
    "plt.grid()\n",
    "plt.show()"
   ]
  },
  {
   "cell_type": "code",
   "execution_count": null,
   "metadata": {},
   "outputs": [],
   "source": []
  }
 ],
 "metadata": {
  "kernelspec": {
   "display_name": "Python 3.9.6 ('Machine_Learning_with_Python-7V858pgh')",
   "language": "python",
   "name": "python3"
  },
  "language_info": {
   "codemirror_mode": {
    "name": "ipython",
    "version": 3
   },
   "file_extension": ".py",
   "mimetype": "text/x-python",
   "name": "python",
   "nbconvert_exporter": "python",
   "pygments_lexer": "ipython3",
   "version": "3.9.6"
  },
  "orig_nbformat": 4,
  "vscode": {
   "interpreter": {
    "hash": "dbf55fd141a929e96d217693ff943f340da010ee827d3bb7b01df8ee1539f1d0"
   }
  }
 },
 "nbformat": 4,
 "nbformat_minor": 2
}
