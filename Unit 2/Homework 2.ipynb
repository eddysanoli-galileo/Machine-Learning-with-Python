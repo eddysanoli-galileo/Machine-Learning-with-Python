{
 "cells": [
  {
   "cell_type": "markdown",
   "metadata": {},
   "source": [
    "## Homework 2\n",
    "\n",
    "### 1. Collaborative Filtering, Kernels, Linear Regression\n",
    "\n",
    "In this question, we will use the alternating projections algorithm for low-rank matrix factorization, which aims to minimize\n",
    "\n",
    "$$J(U, V) = \\underbrace{\\frac{1}{2}\\sum _{(a,i) \\in D} (Y_{ai} - [UV^ T]_{ai})^2}_{\\text {Squared Error}} + \\underbrace{\\frac{\\lambda }{2}\\sum _{a=1}^ n \\sum _{j=1}^ k U_{aj}^2 + \\frac{\\lambda }{2}\\sum _{i=1}^ m \\sum _{j=1}^ k V_{ij}^2}_{\\text {Regularization}}.$$\n",
    "\n",
    "-----\n",
    "\n",
    "#### 1. (a)"
   ]
  },
  {
   "cell_type": "code",
   "execution_count": 11,
   "metadata": {},
   "outputs": [
    {
     "name": "stdout",
     "output_type": "stream",
     "text": [
      "X(0)\n",
      "[[24 12  6]\n",
      " [ 0  0  0]\n",
      " [12  6  3]\n",
      " [24 12  6]]\n"
     ]
    }
   ],
   "source": [
    "import numpy as np\n",
    "\n",
    "# Initialize U and V\n",
    "U : np.ndarray = np.asarray([[6, 0, 3, 6]]).T\n",
    "V : np.ndarray = np.asarray([[4, 2, 1]])\n",
    "\n",
    "# Compute X (UV^T)\n",
    "X = U * V\n",
    "\n",
    "print(\"X(0)\")\n",
    "print(X)"
   ]
  },
  {
   "cell_type": "markdown",
   "metadata": {},
   "source": [
    "#### 2. (b)"
   ]
  },
  {
   "cell_type": "code",
   "execution_count": 13,
   "metadata": {},
   "outputs": [
    {
     "name": "stdout",
     "output_type": "stream",
     "text": [
      "Squared Error:  255.5\n",
      "Regularization:  51.0\n"
     ]
    }
   ],
   "source": [
    "# Initial data\n",
    "# (Nan values are unknowns)\n",
    "Y : np.ndarray = np.array(\n",
    "    [\n",
    "        [     5, np.nan,      7],\n",
    "        [np.nan,      2, np.nan],\n",
    "        [     4, np.nan, np.nan],\n",
    "        [np.nan,      3,      6]\n",
    "    ]\n",
    ")\n",
    "\n",
    "# Known values (D)\n",
    "D = np.where(~np.isnan(Y))\n",
    "\n",
    "# Squared error (For known values)\n",
    "squared_error = 0.5 * np.sum( (Y[D]- X[D])**2 )\n",
    "\n",
    "# Regularization terms\n",
    "lambd : int = 1\n",
    "regularization = (lambd / 2) * ( np.sum(U**2) + np.sum(V**2) )\n",
    "\n",
    "print(\"Squared Error: \", squared_error)\n",
    "print(\"Regularization: \", regularization)"
   ]
  },
  {
   "cell_type": "markdown",
   "metadata": {},
   "source": [
    "#### 1. (c)"
   ]
  },
  {
   "cell_type": "code",
   "execution_count": 15,
   "metadata": {},
   "outputs": [
    {
     "name": "stdout",
     "output_type": "stream",
     "text": [
      "[ 1.5 0.8 0.9411764705882353 2.0 ]\n"
     ]
    }
   ],
   "source": [
    "# | U1 | | 4  2  1 |\n",
    "# | U2 |\n",
    "# | U3 | \n",
    "# | U4 |\n",
    "\n",
    "# | 4U1 2U1 U1 |\n",
    "# | 4U2 2U2 U2 |\n",
    "# | 4U3 2U3 U3 |\n",
    "# | 4U4 2U4 U4 |\n",
    "\n",
    "# dU1 = 0.5*(5-4U1)^2 + 0.5*(7-U1)^2 + 0.5*lambda*U1^2\n",
    "#     = -4*(5-4U1) - (7-U1) + lambda*U1\n",
    "#     = -20 + 16U1 - 7 + U1 + lambda*U1\n",
    "#     = -27 + 17U1 + lambda*U1 = 0\n",
    "U1 = 27 / (lambd + 17)\n",
    "\n",
    "# dU2 = 0.5*(2-2U2)^2 + 0.5*lambda*U2^2\n",
    "#     = -2*(2-2U2) + lambda*U2\n",
    "#     = -4 + 4U2 + lambda*U2 = 0\n",
    "U2 = 4 / (lambd + 4)\n",
    "\n",
    "# dU3 = 0.5*(4-4U3)^2 + 0.5*lambda*U3^2\n",
    "#     = -4*(4-4U3) + lambda*U3\n",
    "#     = -16 + 16U3 + lambda*U3 = 0\n",
    "U3 = 16 / (lambd + 16)\n",
    "\n",
    "# dU4 = 0.5*(3-2U4)^2 + 0.5*(6-U4)^2 + 0.5*lambda*U4^2\n",
    "#     = -2*(3-2U4) - (6-U4) + lambda*U4\n",
    "#     = -6 + 4U4 - 6 + U4 + lambda*U4\n",
    "#     = -12 + 5U4 + lambda*U4 = 0\n",
    "U4 = 12 / (lambd + 5)\n",
    "\n",
    "print(\"[\", U1, U2, U3, U4, \"]\")"
   ]
  },
  {
   "cell_type": "code",
   "execution_count": null,
   "metadata": {},
   "outputs": [],
   "source": []
  }
 ],
 "metadata": {
  "kernelspec": {
   "display_name": "Python 3.9.6 ('Unit_2-U_ivV9B3')",
   "language": "python",
   "name": "python3"
  },
  "language_info": {
   "codemirror_mode": {
    "name": "ipython",
    "version": 3
   },
   "file_extension": ".py",
   "mimetype": "text/x-python",
   "name": "python",
   "nbconvert_exporter": "python",
   "pygments_lexer": "ipython3",
   "version": "3.9.6"
  },
  "orig_nbformat": 4,
  "vscode": {
   "interpreter": {
    "hash": "c349c5de5661e8b703439efd95ea8a79ed352523fcc82505d8958424d4a970b2"
   }
  }
 },
 "nbformat": 4,
 "nbformat_minor": 2
}
