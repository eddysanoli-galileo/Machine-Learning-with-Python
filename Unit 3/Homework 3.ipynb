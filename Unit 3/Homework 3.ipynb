{
 "cells": [
  {
   "cell_type": "markdown",
   "metadata": {},
   "source": [
    "## Homework 3\n",
    "-------\n",
    "\n",
    "### 1. Neural Networks\n",
    "\n",
    "#### Feed Forward Step"
   ]
  },
  {
   "cell_type": "code",
   "execution_count": 1,
   "metadata": {},
   "outputs": [
    {
     "name": "stdout",
     "output_type": "stream",
     "text": [
      "Output: [[9.99999694e-01 3.05902227e-07]]\n"
     ]
    }
   ],
   "source": [
    "import numpy as np\n",
    "from typing import List, Optional\n",
    "\n",
    "# Input array\n",
    "x : np.ndarray = np.asarray([[3, 14]]).T\n",
    "\n",
    "# Get the number of input samples\n",
    "no_samples : int = x.shape[1]\n",
    "\n",
    "# Add an additional row of ones to represent the bias when\n",
    "# multiplying the input with the first set of weights\n",
    "constant : np.ndarray = np.ones((1, no_samples))\n",
    "\n",
    "# We add the constant to the input array\n",
    "# (The axis option must be added or the output array will be one dimensional)\n",
    "x = np.append(x, constant, axis=0)\n",
    "\n",
    "# Layer 1: Weights\n",
    "W : np.ndarray = np.asarray([\n",
    "    [ 1,  0, -1],\n",
    "    [ 0,  1, -1],\n",
    "    [-1,  0, -1],\n",
    "    [ 0, -1, -1]\n",
    "])\n",
    "\n",
    "# Layer 2: Weights\n",
    "V : np.ndarray = np.asarray([\n",
    "    [ 1,  1,  1,  1, 0],\n",
    "    [-1, -1, -1, -1, 2]\n",
    "])\n",
    "\n",
    "# Hidden layer activation function\n",
    "relu = lambda z: np.maximum(z, 0)\n",
    "\n",
    "# Softmax activation function\n",
    "# (Add the axis to the sum to support more samples)\n",
    "softmax = lambda u: np.exp(relu(u)) / np.sum(np.exp(relu(u)), axis=1)\n",
    "\n",
    "# Layer: Hidden Layer\n",
    "fz : np.ndarray = relu(np.dot(x.T, W.T))\n",
    "\n",
    "# Add bias (A column of 1's) to hidden layer output\n",
    "fz = np.append(fz.T, constant, axis=0)\n",
    "\n",
    "# Layer: Output Layer\n",
    "fu : np.ndarray = softmax(np.dot(fz.T, V.T))\n",
    "print(\"Output:\", fu)"
   ]
  },
  {
   "cell_type": "markdown",
   "metadata": {},
   "source": [
    "#### Decision Boundaries\n",
    "\n",
    "In this problem we visualize the “decision boundaries\" in $x$-space, corresponding to the four hidden units. These are the lines in $x$-space where the values of $z_1, z_2, z_3, z_4$ are exactly zero. Plot the decision boundaries of the four hidden units using the parameters of $W$ provided above.\n",
    "\n",
    "$$\n",
    "\\displaystyle z_1 = x_1 W_{11} + x_2 W_{21} + W_{01}\\\\\n",
    "\\displaystyle z_2 = x_1 W_{12} + x_2 W_{22} + W_{02}\\\\\n",
    "\\displaystyle z_3 = x_1 W_{13} + x_2 W_{23} + W_{03}\\\\\n",
    "\\displaystyle z_4 = x_1 W_{13} + x_2 W_{23} + W_{03}\\\\\n",
    "$$"
   ]
  },
  {
   "cell_type": "code",
   "execution_count": 2,
   "metadata": {},
   "outputs": [
    {
     "data": {
      "image/png": "[encoded data removed]",
      "text/plain": [
       "<Figure size 432x288 with 1 Axes>"
      ]
     },
     "metadata": {
      "needs_background": "light"
     },
     "output_type": "display_data"
    }
   ],
   "source": [
    "import matplotlib.pyplot as plt\n",
    "\n",
    "x1 = np.linspace(-10, 10, 100)\n",
    "x2 = np.linspace(-10, 10, 100)\n",
    "\n",
    "x1_0 = (-W[0,2] - W[0,1]*x2) / W[0,0]\n",
    "x2_1 = (-W[1,2] - W[1,0]*x1) / W[1,1]\n",
    "x1_2 = (-W[2,2] - W[2,1]*x2) / W[2,0]\n",
    "x2_3 = (-W[3,2] - W[3,0]*x1) / W[3,1]\n",
    "\n",
    "plt.plot(x1_0, x2)\n",
    "plt.plot(x1, x2_1)\n",
    "plt.plot(x1_2, x2)\n",
    "plt.plot(x1, x2_3)\n",
    "plt.show()"
   ]
  },
  {
   "cell_type": "markdown",
   "metadata": {},
   "source": [
    "#### Output of Neural Network\n",
    "\n",
    "Using the same matrix $V$ as above, what is the value of $o_1$ (accurate to at least three decimal places if responding numerically) in the following three cases?\n",
    "\n",
    "- Assuming that $f(z_1) + f(z_2) + f(z_3) + f(z_4) = 1$\n",
    "- Assuming that $f(z_1) + f(z_2) + f(z_3) + f(z_4) = 0$\n",
    "- Assuming that $f(z_1) + f(z_2) + f(z_3) + f(z_4) = 3$\n",
    "\n",
    "**Answer**\n",
    "\n",
    "The first row of the V matrix is just a bunch of ones with a zero at the end. That means that each of the outputs of the hidden layer will be multiplied by one and then a bias of zero will be added. This means that the logits that are fed into the first output neuron will consist of the following\n",
    "\n",
    "$$f(z_1)*1 + f(z_2)*1 + f(z_3)*1 + f(z_4)*1 + 0$$\n",
    "$$f(z_1)*-1 + f(z_2)*-1 + f(z_3)*-1 + f(z_4)*-1 + 2$$\n",
    "\n",
    "Which basically boils down to a sum of all the outputs of the hidden layer for the first logit, and the sum of all outputs negated and with 2 added to the negated sum. Since we know the value for the sum of the hidden layer outputs for each case, we now know the different values that will be hypothetically fed into the output layer activation function (softmax)\n",
    "\n",
    "- Case 1: Softmax([1, -1+2]) = Softmax([1, 1])\n",
    "- Case 2: Softmax([0, -0+2]) = Softmax([0, 2])\n",
    "- Case 3: Softmax([3, -3+2]) = Softmax([3, -1])"
   ]
  },
  {
   "cell_type": "code",
   "execution_count": 8,
   "metadata": {},
   "outputs": [
    {
     "name": "stdout",
     "output_type": "stream",
     "text": [
      "Case 1: [[0.5 0.5]]\n",
      "Case 2: [[0.11920292 0.88079708]]\n",
      "Case 3: [[0.95257413 0.04742587]]\n"
     ]
    }
   ],
   "source": [
    "# To get the value of the first output neuron, you need to fetch\n",
    "# the first value of the printed array\n",
    "print(\"Case 1:\", softmax([[1, 1]]))\n",
    "print(\"Case 2:\", softmax([[0, 2]]))\n",
    "print(\"Case 3:\", softmax([[3, -1]]))"
   ]
  },
  {
   "cell_type": "markdown",
   "metadata": {},
   "source": [
    "### 2. LSTM\n",
    "\n",
    "#### LSTM States"
   ]
  },
  {
   "cell_type": "code",
   "execution_count": 15,
   "metadata": {},
   "outputs": [
    {
     "name": "stdout",
     "output_type": "stream",
     "text": [
      "Index 0: 0.0\n",
      "Index 1: 0.0\n",
      "Index 2: 1.0\n",
      "Index 3: -1.0\n",
      "Index 4: 1.0\n",
      "Index 5: -0.0\n"
     ]
    }
   ],
   "source": [
    "# Input sequence\n",
    "x : np.ndarray = np.asarray([0, 0, 1, 1, 1, 0])\n",
    "\n",
    "# LSTM Parameters\n",
    "W_fh = 0\n",
    "W_ih = 0\n",
    "W_oh = 0\n",
    "W_fx = 0\n",
    "W_ix = 100\n",
    "W_ox = 100\n",
    "W_ch = -100\n",
    "W_cx = 50\n",
    "\n",
    "# Biases\n",
    "bf = -100\n",
    "bi = 100\n",
    "bo = 0\n",
    "bc = 0\n",
    "\n",
    "# Initial Conditions\n",
    "h_t = 0\n",
    "c_t = 0\n",
    "\n",
    "# Sigmoid function\n",
    "sigmoid = lambda x: 1 / (1 + np.exp(-x))\n",
    "\n",
    "# LSTM Neuron Declaration\n",
    "def LSTM(x, h_t, c_t):\n",
    "\n",
    "    # Go through each time step of the input sequence\n",
    "    for idx, x_t in enumerate(x):\n",
    "\n",
    "        # Forget gate\n",
    "        f_t = sigmoid(W_fh * h_t + W_fx * x_t + bf)\n",
    "        \n",
    "        # Input gate\n",
    "        i_t = sigmoid(W_ix * h_t + W_ix * x_t + bi)\n",
    "\n",
    "        # Output gate\n",
    "        o_t = sigmoid(W_oh * h_t + W_ox * x_t + bo)\n",
    "\n",
    "        # Memory Cell\n",
    "        c_t = f_t * c_t + i_t * np.tanh(W_ch * h_t + W_cx * x_t + bc)\n",
    "\n",
    "        # Visible State\n",
    "        h_t = o_t * np.tanh(c_t)\n",
    "\n",
    "        # We present the visible state in each timestep as a rounded\n",
    "        # value that doesn't have any decimals\n",
    "        print(f\"Index {idx}:\", np.round(h_t, 0))\n",
    "\n",
    "\n",
    "# Call the LSTM function with the initial sequence\n",
    "LSTM(x, h_t, c_t)"
   ]
  },
  {
   "cell_type": "markdown",
   "metadata": {},
   "source": [
    "#### LSTM States 2"
   ]
  },
  {
   "cell_type": "code",
   "execution_count": 16,
   "metadata": {},
   "outputs": [
    {
     "name": "stdout",
     "output_type": "stream",
     "text": [
      "Index 0: 1.0\n",
      "Index 1: -1.0\n",
      "Index 2: 0.0\n",
      "Index 3: 1.0\n",
      "Index 4: -1.0\n"
     ]
    }
   ],
   "source": [
    "# New input sequence\n",
    "x : np.ndarray = np.asarray([1, 1, 0, 1, 1])\n",
    "\n",
    "# Initialize the memory cell and visible state\n",
    "c_t = 0\n",
    "h_t = 0\n",
    "\n",
    "# Print the visible state each timestep\n",
    "LSTM(x, h_t, c_t)"
   ]
  },
  {
   "cell_type": "markdown",
   "metadata": {},
   "source": [
    "### 3. Backpropagation\n",
    "\n",
    "#### Computing the Error"
   ]
  },
  {
   "cell_type": "code",
   "execution_count": null,
   "metadata": {},
   "outputs": [],
   "source": []
  }
 ],
 "metadata": {
  "kernelspec": {
   "display_name": "Python 3.9.6 ('Machine_Learning_with_Python-7V858pgh')",
   "language": "python",
   "name": "python3"
  },
  "language_info": {
   "codemirror_mode": {
    "name": "ipython",
    "version": 3
   },
   "file_extension": ".py",
   "mimetype": "text/x-python",
   "name": "python",
   "nbconvert_exporter": "python",
   "pygments_lexer": "ipython3",
   "version": "3.9.6"
  },
  "orig_nbformat": 4,
  "vscode": {
   "interpreter": {
    "hash": "dbf55fd141a929e96d217693ff943f340da010ee827d3bb7b01df8ee1539f1d0"
   }
  }
 },
 "nbformat": 4,
 "nbformat_minor": 2
}
