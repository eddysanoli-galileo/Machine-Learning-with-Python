{
 "cells": [
  {
   "cell_type": "markdown",
   "metadata": {},
   "source": [
    "### 6. Hidden Layer Models\n",
    "\n",
    "#### Linear Separability After First Layer"
   ]
  },
  {
   "cell_type": "code",
   "execution_count": 17,
   "metadata": {},
   "outputs": [
    {
     "data": {
      "image/png": "[encoded data removed]",
      "text/plain": [
       "<Figure size 432x288 with 1 Axes>"
      ]
     },
     "metadata": {
      "needs_background": "light"
     },
     "output_type": "display_data"
    }
   ],
   "source": [
    "import numpy as np\n",
    "import matplotlib.pyplot as plt\n",
    "\n",
    "# Inputs\n",
    "# (4, 2)\n",
    "x : np.ndarray = np.asarray(\n",
    "    [\n",
    "        [-1, -1],\n",
    "        [ 1, -1],\n",
    "        [-1,  1],\n",
    "        [ 1,  1]\n",
    "    ]\n",
    ")\n",
    "\n",
    "# Outputs\n",
    "# (4, 1)\n",
    "y : np.ndarray = np.asarray(\n",
    "    [\n",
    "        [ 1],\n",
    "        [-1],\n",
    "        [-1],\n",
    "        [ 1]\n",
    "    ]\n",
    ")\n",
    "\n",
    "# Parameters\n",
    "# (1, 2)\n",
    "w1 : np.ndarray = np.asarray(\n",
    "    [[-2, 2]]\n",
    ")\n",
    "w2 : np.ndarray = np.asarray(\n",
    "    [[2, 2]]\n",
    ")\n",
    "w01 = w02 = 1\n",
    "\n",
    "# Activation function\n",
    "f = lambda z : 2*z -3\n",
    "\n",
    "# Intermediate representation output\n",
    "f1 = f(np.dot(x, w1.T) + w01)\n",
    "f2 = f(np.dot(x, w2.T) + w02)\n",
    "\n",
    "# Concatenate intermediate representations to get \n",
    "# the new coordinates for the points\n",
    "intermediate_coords = np.hstack((f1, f2))\n",
    "\n",
    "# Plot the new mapping of the points\n",
    "plt.scatter(intermediate_coords[:,0], intermediate_coords[:,1], c=y)\n",
    "plt.show()"
   ]
  },
  {
   "cell_type": "markdown",
   "metadata": {},
   "source": [
    "None of the parameter tests result in a mapping that is able to be separated using a simple line."
   ]
  },
  {
   "cell_type": "code",
   "execution_count": 16,
   "metadata": {},
   "outputs": [
    {
     "data": {
      "image/png": "[encoded data removed]",
      "text/plain": [
       "<Figure size 432x288 with 1 Axes>"
      ]
     },
     "metadata": {
      "needs_background": "light"
     },
     "output_type": "display_data"
    }
   ],
   "source": [
    "# Parameters\n",
    "# (1, 2)\n",
    "w1 : np.ndarray = np.asarray(\n",
    "    [[1, -1]]\n",
    ")\n",
    "w2 : np.ndarray = np.asarray(\n",
    "    [[-1, 1]]\n",
    ")\n",
    "w01 = w02 = 1\n",
    "\n",
    "# Activation function\n",
    "# f = lambda z : 5*z - 2                # Not linearly separable\n",
    "# f = lambda z : np.maximum(0, z)       # Linearly separable\n",
    "# f = lambda z : z                      # Not linearly separable\n",
    "f = lambda z : np.tanh(z)               # Linearly separable\n",
    "\n",
    "# Intermediate representation output\n",
    "f1 = f(np.dot(x, w1.T) + w01)\n",
    "f2 = f(np.dot(x, w2.T) + w02)\n",
    "\n",
    "# Concatenate intermediate representations to get \n",
    "# the new coordinates for the points\n",
    "intermediate_coords = np.hstack((f1, f2))\n",
    "\n",
    "# Plot the new mapping of the points\n",
    "plt.scatter(intermediate_coords[:,0], intermediate_coords[:,1], c=y)\n",
    "plt.show()"
   ]
  },
  {
   "cell_type": "code",
   "execution_count": null,
   "metadata": {},
   "outputs": [],
   "source": []
  }
 ],
 "metadata": {
  "kernelspec": {
   "display_name": "Python 3.9.6 ('Machine_Learning_with_Python-7V858pgh')",
   "language": "python",
   "name": "python3"
  },
  "language_info": {
   "codemirror_mode": {
    "name": "ipython",
    "version": 3
   },
   "file_extension": ".py",
   "mimetype": "text/x-python",
   "name": "python",
   "nbconvert_exporter": "python",
   "pygments_lexer": "ipython3",
   "version": "3.9.6"
  },
  "orig_nbformat": 4,
  "vscode": {
   "interpreter": {
    "hash": "dbf55fd141a929e96d217693ff943f340da010ee827d3bb7b01df8ee1539f1d0"
   }
  }
 },
 "nbformat": 4,
 "nbformat_minor": 2
}
