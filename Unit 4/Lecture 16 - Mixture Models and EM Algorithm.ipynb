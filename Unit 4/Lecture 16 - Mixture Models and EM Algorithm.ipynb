{
 "cells": [
  {
   "cell_type": "markdown",
   "metadata": {},
   "source": [
    "### 5. Mixture Model - Unobserved Case: EM Algorithm\n",
    "\n",
    "#### Gaussian Mixture Model: An Example Update - E-Step"
   ]
  },
  {
   "cell_type": "code",
   "execution_count": 6,
   "metadata": {},
   "outputs": [
    {
     "name": "stdout",
     "output_type": "stream",
     "text": [
      "Posterior Probabilities Cluster 1: [0.29421497 0.62245933 0.65135486 0.10669059 0.05340333]\n",
      "Posterior Probabilities Cluster 2: [0.70578503 0.37754067 0.34864514 0.89330941 0.94659667]\n"
     ]
    }
   ],
   "source": [
    "import numpy as np\n",
    "\n",
    "# Means\n",
    "mu1 = -3\n",
    "mu2 = 2\n",
    "\n",
    "# Variances (Both quantities are already squared)\n",
    "sigma1 = 4\n",
    "sigma2 = 4\n",
    "\n",
    "# Priors (Probabilities that a point comes from cluster \"j\")\n",
    "p_prior1 = 0.5\n",
    "p_prior2 = 0.5\n",
    "\n",
    "# Dots to categorize\n",
    "x = np.array([0.2, -0.9, -1, 1.2, 1.8]).T\n",
    "\n",
    "# Equation for a gaussian\n",
    "gaussian = lambda x, mu, sigma: (1 / np.sqrt(2*np.pi*sigma)) * np.exp(-np.power(x-mu, 2) / (2*sigma))\n",
    "\n",
    "# Gaussian equation evaluated using the \"x\" samples and the given parameters\n",
    "# for clusters 1 and 2\n",
    "N1 = gaussian(x, mu1, sigma1)\n",
    "N2 = gaussian(x, mu2, sigma2)\n",
    "\n",
    "# Calculate the posterior probabilities\n",
    "p_post1 = (p_prior1 * N1) / ((p_prior1 * N1) + (p_prior2 * N2)) \n",
    "p_post2 = (p_prior2 * N2) / ((p_prior1 * N1) + (p_prior2 * N2)) \n",
    "\n",
    "# Final print\n",
    "print(\"Posterior Probabilities Cluster 1:\", p_post1)\n",
    "print(\"Posterior Probabilities Cluster 2:\", p_post2)"
   ]
  },
  {
   "cell_type": "markdown",
   "metadata": {},
   "source": [
    "#### Gaussian Mixture Model: An Example Update - M-Step"
   ]
  },
  {
   "cell_type": "code",
   "execution_count": 7,
   "metadata": {},
   "outputs": [
    {
     "name": "stdout",
     "output_type": "stream",
     "text": [
      "New Prior: 0.3456246183552747\n",
      "New Mu: -0.5373289474340418\n",
      "New Sigma: 0.5757859076870627\n"
     ]
    }
   ],
   "source": [
    "# Calculate the mean based on the previous e-step\n",
    "# (X and p_hat should be multiplied element-wise)\n",
    "new_mu1 = np.sum(np.multiply(p_post1, x)) / np.sum(p_post1)\n",
    "\n",
    "# New prior based on e-step\n",
    "new_p_prior1 = (1/ len(x)) * np.sum(p_post1)\n",
    "\n",
    "# Dimensionality of x\n",
    "d = 1\n",
    "\n",
    "# New variance based on e-step\n",
    "new_sigma1 = np.sum( np.multiply(p_post1, np.power(x - new_mu1, 2)) ) / (d * np.sum(p_post1))\n",
    "\n",
    "# Printing the new parameters\n",
    "print(\"New Prior:\", new_p_prior1)\n",
    "print(\"New Mu:\", new_mu1)\n",
    "print(\"New Sigma:\", new_sigma1)"
   ]
  },
  {
   "cell_type": "code",
   "execution_count": 8,
   "metadata": {},
   "outputs": [
    {
     "name": "stdout",
     "output_type": "stream",
     "text": [
      "New Prior: 0.6543753816447255\n",
      "New Mu: 0.6811290963725771\n",
      "New Sigma: 2.5598879676788537\n"
     ]
    }
   ],
   "source": [
    "# Calculate the mean based on the previous e-step\n",
    "# (X and p_hat should be multiplied element-wise)\n",
    "new_mu2 = np.sum(np.multiply(p_post2, x)) / np.sum(p_post2)\n",
    "\n",
    "# New prior based on e-step\n",
    "new_p_prior2 = (1/ len(x)) * np.sum(p_post2)\n",
    "\n",
    "# Dimensionality of x\n",
    "d = 1\n",
    "\n",
    "# New variance based on e-step\n",
    "new_sigma2 = np.sum( np.multiply(p_post2, np.power(x - new_mu1, 2)) ) / (d * np.sum(p_post2))\n",
    "\n",
    "# Printing the new parameters\n",
    "print(\"New Prior:\", new_p_prior2)\n",
    "print(\"New Mu:\", new_mu2)\n",
    "print(\"New Sigma:\", new_sigma2)"
   ]
  }
 ],
 "metadata": {
  "kernelspec": {
   "display_name": "Python 3.9.6 ('Machine_Learning_with_Python-7V858pgh')",
   "language": "python",
   "name": "python3"
  },
  "language_info": {
   "codemirror_mode": {
    "name": "ipython",
    "version": 3
   },
   "file_extension": ".py",
   "mimetype": "text/x-python",
   "name": "python",
   "nbconvert_exporter": "python",
   "pygments_lexer": "ipython3",
   "version": "3.9.6"
  },
  "orig_nbformat": 4,
  "vscode": {
   "interpreter": {
    "hash": "dbf55fd141a929e96d217693ff943f340da010ee827d3bb7b01df8ee1539f1d0"
   }
  }
 },
 "nbformat": 4,
 "nbformat_minor": 2
}
